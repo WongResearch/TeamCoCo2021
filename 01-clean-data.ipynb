{
 "cells": [
  {
   "cell_type": "code",
   "execution_count": null,
   "source": [
    "import plotly.io as pio\n",
    "pio.renderers.default = \"notebook_connected\"\n",
    "import pandas as pd\n",
    "import numpy as np\n",
    "import re"
   ],
   "outputs": [],
   "metadata": {}
  },
  {
   "cell_type": "code",
   "execution_count": 59,
   "source": [
    "import requests\n",
    "from io import StringIO\n",
    "\n",
    "url = \"https://api.data.abs.gov.au/data/ABS%2CABS_NOM_VISA_CY%2C1.0.0/1%2B2%2B3%2B4%2B5%2B6%2B7%2B8%2B9%2B10%2B11%2B12%2B13%2B14%2B15%2B16%2B17.1.AUS.A?detail=full\"\n",
    "headers = {\"accept\": \"text/csv\"}\n",
    "req = requests.get(url, headers=headers)\n",
    "data = StringIO(req.text)\n",
    "absdf= pd.read_csv(data)\n",
    "absdf = absdf.loc[absdf['MEASURE'] == 16]\n",
    "absdf = absdf[['TIME_PERIOD','OBS_VALUE']]\n",
    "absdf.rename(index=str, columns={\"TIME_PERIOD\": \"year\"}, inplace=True)\n",
    "absdf.rename(index=str, columns={\"OBS_VALUE\": \"migration_no\"}, inplace=True)\n",
    "absdf.to_csv(\"./datasets/cleaned-migration-years.csv\", index = False)"
   ],
   "outputs": [],
   "metadata": {}
  },
  {
   "cell_type": "code",
   "execution_count": null,
   "source": [
    "# https://www.data.qld.gov.au/dataset/register-of-immigrants-1864-to-1878\n",
    "url = \"https://www.data.qld.gov.au/dataset/32e5cda7-dee5-4cc2-a5f5-88b9a04da882/resource/0c976207-a184-4605-b171-a65a76a2ad2e/download/register-of-immigrants-1864-1878.csv\"\n",
    "# url = \"./datasets/register-of-immigrants-1864-1878.csv\"\n",
    "\n",
    "qdf= pd.read_csv(url )\n",
    "\n",
    "qdf['Description'].replace(to_replace=\"(.*from\\s)(.*)\", value=r\"\\2\", regex=True, inplace=True)\n",
    "qdf.rename(index=str, columns={\"Description\": \"country\"}, inplace=True)\n",
    "qdf.dropna(subset=['country' ], inplace=True) \n",
    "\n",
    "qdf.rename(index=str, columns={\"Date of arrival\": \"year\"}, inplace=True)\n",
    "\n",
    "qdf['year'].replace(to_replace=\".*([0-9]{4}).*\", value=r\"\\1\", regex=True, inplace=True)\n",
    "qdf['year'].nunique()\n",
    "\n",
    "qdf = qdf.sort_values(by=['year'], ascending = False)\n",
    "s = qdf.groupby(['country','year']).size()\n",
    "qdf = s.to_frame(name = 'migration_no').reset_index()"
   ],
   "outputs": [],
   "metadata": {}
  },
  {
   "cell_type": "code",
   "execution_count": null,
   "source": [
    "\n",
    "\n",
    "# url = \"https://data.gov.au/data/dataset/2fe5e2a9-8a3d-4dcf-baec-c5147d953150/resource/b59a15df-86ea-4c4c-95be-4dd9fc9f8ac4/download/2019-20-historical-migration-statistics-locked.xlsx\"\n",
    "url = \"./datasets/2019-20-historical-migration-statistics-locked.xlsx\"\n",
    "\n",
    "# Table 1.1: Permanent and long-term arrivals, October 1945 to June 1959\n",
    "df1= pd.read_excel(url, sheet_name=\"1.1\", header=7 )\n",
    "# Table 1.2: Settler arrivals, January 1959 to June 1975  \n",
    "df2= pd.read_excel(url, sheet_name=\"1.2\", header=7 )\n",
    "#Table 1.3: Settler arrivals, 1975–76 to 1994–95  \n",
    "df3= pd.read_excel(url, sheet_name=\"1.3\", header=7 )\n",
    "#Table 1.4: Settler arrivals, 1995–96\n",
    "df4= pd.read_excel(url, sheet_name=\"1.4\", header=7 )\n",
    "# Table 2.1: Permanent additions, 1996–97 to 2007–08\n",
    "df5= pd.read_excel(url, sheet_name=\"2.1\", header=7 )\n",
    "# Table 2.2: Permanent additions, 2008–09 to 2016–17\n",
    "df6= pd.read_excel(url, sheet_name=\"2.1\", header=7 )\n",
    "\n",
    "#Table 3.2: The permanent migration program outcome by stream and citizenship, 1996–97 to 2016–17\n",
    "df7= pd.read_excel(url, sheet_name=\"3.2\", header=7 )\n",
    "\n",
    "\n",
    "frames = [df1, df2, df3, df4, df5, df6, df7]\n",
    "\n",
    "stores_df = pd.concat(frames)\n"
   ],
   "outputs": [],
   "metadata": {}
  },
  {
   "cell_type": "code",
   "execution_count": null,
   "source": [
    "\n",
    "\n",
    "stores_df = stores_df.iloc[: , :-1]\n",
    "stores_df = stores_df.iloc[: , 1:]\n",
    "stores_df = stores_df.melt(id_vars=[\"Year\"], \n",
    "        var_name=\"country\", \n",
    "        value_name=\"migration_no\")\n",
    "stores_df.rename(index=str, columns={\"Year\": \"year\"}, inplace=True)\n",
    "\n",
    "stores_df.dtypes"
   ],
   "outputs": [],
   "metadata": {}
  },
  {
   "cell_type": "code",
   "execution_count": null,
   "source": [
    "stores_df = pd.concat([qdf,stores_df], axis=0)\n"
   ],
   "outputs": [],
   "metadata": {}
  },
  {
   "cell_type": "code",
   "execution_count": null,
   "source": [
    "stores_df.dropna(subset=['migration_no', 'country' ], inplace=True) \n",
    "\n",
    "stores_df['year'].replace(to_replace=\".*([0-9]{4}).*\", value=r\"\\1\", regex=True, inplace=True)\n",
    "\n",
    "stores_df['migration_no'].replace(to_replace=\"\\D*(\\d*)\", value=r\"\\1\", regex=True, inplace=True)\n",
    "stores_df[['year','migration_no']] = stores_df[['year','migration_no']].astype(int)\n",
    "stores_df= stores_df[stores_df['migration_no'] != 0]\n",
    "\n",
    "stores_df = stores_df[~stores_df.country.str.contains('|'.join(['Australia', 'Other', 'total', 'Total']))]\n",
    "\n",
    "stores_df = stores_df.sort_values(by=['year', 'migration_no'], ascending = False)\n",
    "stores_df = stores_df.drop_duplicates(subset=['year', 'country'])\n"
   ],
   "outputs": [],
   "metadata": {}
  },
  {
   "cell_type": "code",
   "execution_count": null,
   "source": [
    "remove = ['.1', '.2', '.3', '.4', '']\n",
    "rexpress = '[' + re.escape (''. join (remove)) + ']'\n",
    "stores_df['country'] = stores_df['country'].str.replace(rexpress, '', regex=True)\n",
    "\n",
    "remove_words = [', Dem Peoples Rep Of', ', People\\'s Republic of', 'and Ireland', '\\x28excludes SARs and Taiwan\\x29', '\\x28SAR of China\\x29']\n",
    "rexpress = r'\\b(?:{})\\b'.format( '|'.join(remove_words))\n",
    "stores_df['country'] = stores_df['country'].str.replace(rexpress, '', regex=True)\n",
    "\n",
    "stores_df['country'].replace([\"U.S.S.R.\"], \"Russia\",  inplace=True)\n",
    "# stores_df[stores_df['country'].str.contains(\"SAR of China\")]\n",
    "\n",
    "stores_df = stores_df.sort_values(by=['year', 'migration_no'], ascending = True)\n",
    "stores_df = stores_df.drop_duplicates(subset=['year', 'country'])\n",
    "stores_df\n"
   ],
   "outputs": [],
   "metadata": {}
  },
  {
   "cell_type": "code",
   "execution_count": null,
   "source": [
    "\n",
    "\n",
    "import pycountry\n",
    "list_countries = stores_df['country'].unique().tolist()\n",
    "d_country_code = {} \n",
    "for country in list_countries:\n",
    "    try:\n",
    "        country_data = pycountry.countries.search_fuzzy(country)\n",
    "        country_code = country_data[0].alpha_3\n",
    "        d_country_code.update({country: country_code})\n",
    "    except:\n",
    "        print('\\n could not add ISO 3 code for:', country)\n",
    "        d_country_code.update({country: np.nan})\n",
    "print(d_country_code)"
   ],
   "outputs": [],
   "metadata": {}
  },
  {
   "cell_type": "code",
   "execution_count": null,
   "source": [
    "for k, v in d_country_code.items():\n",
    "    stores_df.loc[(stores_df.country == k), 'iso_alpha'] = v\n",
    "\n",
    "stores_df.dropna(subset=['iso_alpha' ], inplace=True) \n",
    "\n",
    "stores_df"
   ],
   "outputs": [],
   "metadata": {}
  },
  {
   "cell_type": "code",
   "execution_count": null,
   "source": [
    "stores_df.to_csv(\"./datasets/cleaned-migration.csv\", index = False)"
   ],
   "outputs": [],
   "metadata": {}
  },
  {
   "cell_type": "code",
   "execution_count": null,
   "source": [
    "import plotly.express as px\n",
    "gapminder = px.data.gapminder()\n",
    "px.choropleth(stores_df,               \n",
    "                    locations=\"iso_alpha\",               \n",
    "                    color=\"migration_no\",\n",
    "                    hover_name=\"country\",  \n",
    "                    animation_frame=\"year\",    \n",
    "                    color_continuous_scale=px.colors.sequential.tempo,  \n",
    "                    height=600,\n",
    "                    labels={'migration_no':'Total Migration'}\n",
    ")\n",
    "\n"
   ],
   "outputs": [],
   "metadata": {}
  }
 ],
 "metadata": {
  "orig_nbformat": 4,
  "language_info": {
   "name": "python",
   "version": "3.8.8",
   "mimetype": "text/x-python",
   "codemirror_mode": {
    "name": "ipython",
    "version": 3
   },
   "pygments_lexer": "ipython3",
   "nbconvert_exporter": "python",
   "file_extension": ".py"
  },
  "kernelspec": {
   "name": "python3",
   "display_name": "Python 3.8.8 64-bit ('base': conda)"
  },
  "interpreter": {
   "hash": "e134e05457d34029b6460cd73bbf1ed73f339b5b6d98c95be70b69eba114fe95"
  }
 },
 "nbformat": 4,
 "nbformat_minor": 2
}
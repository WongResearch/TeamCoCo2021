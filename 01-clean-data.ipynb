{
 "cells": [
  {
   "cell_type": "code",
   "execution_count": 20,
   "source": [
    "import plotly.io as pio\n",
    "pio.renderers.default = \"notebook_connected\""
   ],
   "outputs": [],
   "metadata": {}
  },
  {
   "cell_type": "code",
   "execution_count": 21,
   "source": [
    "import pandas as pd\n",
    "\n",
    "stores_df = pd.read_excel(\"https://data.gov.au/data/dataset/2fe5e2a9-8a3d-4dcf-baec-c5147d953150/resource/b59a15df-86ea-4c4c-95be-4dd9fc9f8ac4/download/2019-20-historical-migration-statistics-locked.xlsx\", sheet_name=\"1.2\", header=7 )\n",
    "# stores_df = pd.read_excel(\"datasets/2019-20-historical-migration-statistics-locked.xlsx\", sheet_name=\"1.2\", header=7 )\n",
    "\n",
    "stores_df = stores_df.iloc[: , :-1]\n",
    "stores_df = stores_df.iloc[: , 1:]\n",
    "stores_df = stores_df.melt(id_vars=[\"Year\"], \n",
    "        var_name=\"country\", \n",
    "        value_name=\"migration_no\")\n",
    "stores_df.rename(index=str, columns={\"Year\": \"year\"}, inplace=True)\n",
    "\n",
    "stores_df.head()\n"
   ],
   "outputs": [
    {
     "output_type": "execute_result",
     "data": {
      "text/plain": [
       "           year    country migration_no\n",
       "0  Jan-Jun 1959  Australia        241.0\n",
       "1       1959–60  Australia        674.0\n",
       "2       1960–61  Australia        735.0\n",
       "3       1961–62  Australia        745.0\n",
       "4       1962–63  Australia        739.0"
      ],
      "text/html": [
       "<div>\n",
       "<style scoped>\n",
       "    .dataframe tbody tr th:only-of-type {\n",
       "        vertical-align: middle;\n",
       "    }\n",
       "\n",
       "    .dataframe tbody tr th {\n",
       "        vertical-align: top;\n",
       "    }\n",
       "\n",
       "    .dataframe thead th {\n",
       "        text-align: right;\n",
       "    }\n",
       "</style>\n",
       "<table border=\"1\" class=\"dataframe\">\n",
       "  <thead>\n",
       "    <tr style=\"text-align: right;\">\n",
       "      <th></th>\n",
       "      <th>year</th>\n",
       "      <th>country</th>\n",
       "      <th>migration_no</th>\n",
       "    </tr>\n",
       "  </thead>\n",
       "  <tbody>\n",
       "    <tr>\n",
       "      <th>0</th>\n",
       "      <td>Jan-Jun 1959</td>\n",
       "      <td>Australia</td>\n",
       "      <td>241.0</td>\n",
       "    </tr>\n",
       "    <tr>\n",
       "      <th>1</th>\n",
       "      <td>1959–60</td>\n",
       "      <td>Australia</td>\n",
       "      <td>674.0</td>\n",
       "    </tr>\n",
       "    <tr>\n",
       "      <th>2</th>\n",
       "      <td>1960–61</td>\n",
       "      <td>Australia</td>\n",
       "      <td>735.0</td>\n",
       "    </tr>\n",
       "    <tr>\n",
       "      <th>3</th>\n",
       "      <td>1961–62</td>\n",
       "      <td>Australia</td>\n",
       "      <td>745.0</td>\n",
       "    </tr>\n",
       "    <tr>\n",
       "      <th>4</th>\n",
       "      <td>1962–63</td>\n",
       "      <td>Australia</td>\n",
       "      <td>739.0</td>\n",
       "    </tr>\n",
       "  </tbody>\n",
       "</table>\n",
       "</div>"
      ]
     },
     "metadata": {},
     "execution_count": 21
    }
   ],
   "metadata": {}
  },
  {
   "cell_type": "code",
   "execution_count": null,
   "source": [
    "stores_df.dropna(subset=['migration_no', 'country' ], inplace=True) \n",
    "stores_df['year'].replace(to_replace=\".*([0-9]{4}).*\", value=r\"\\1\", regex=True, inplace=True)\n",
    "stores_df = stores_df[stores_df.migration_no.astype('str').str.isnumeric()]\n",
    "\n",
    "stores_df[['year','migration_no']] = stores_df[['year','migration_no']].astype(int)\n",
    "\n",
    "stores_df = stores_df[~stores_df.country.str.contains('|'.join(['Australia', 'Other']))]\n",
    "\n",
    "stores_df.dtypes"
   ],
   "outputs": [],
   "metadata": {}
  }
 ],
 "metadata": {
  "orig_nbformat": 4,
  "language_info": {
   "name": "python",
   "version": "3.8.8",
   "mimetype": "text/x-python",
   "codemirror_mode": {
    "name": "ipython",
    "version": 3
   },
   "pygments_lexer": "ipython3",
   "nbconvert_exporter": "python",
   "file_extension": ".py"
  },
  "kernelspec": {
   "name": "python3",
   "display_name": "Python 3.8.8 64-bit ('base': conda)"
  },
  "interpreter": {
   "hash": "e134e05457d34029b6460cd73bbf1ed73f339b5b6d98c95be70b69eba114fe95"
  }
 },
 "nbformat": 4,
 "nbformat_minor": 2
}
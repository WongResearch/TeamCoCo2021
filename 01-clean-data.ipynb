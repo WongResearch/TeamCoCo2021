{
 "cells": [
  {
   "cell_type": "code",
   "execution_count": null,
   "source": [
    "import plotly.io as pio\n",
    "pio.renderers.default = \"notebook_connected\""
   ],
   "outputs": [],
   "metadata": {}
  },
  {
   "cell_type": "code",
   "execution_count": null,
   "source": [
    "import pandas as pd\n",
    "\n",
    "stores_df = pd.read_excel(\"https://data.gov.au/data/dataset/2fe5e2a9-8a3d-4dcf-baec-c5147d953150/resource/b59a15df-86ea-4c4c-95be-4dd9fc9f8ac4/download/2019-20-historical-migration-statistics-locked.xlsx\", sheet_name=\"1.2\", header=7 )\n",
    "# stores_df = pd.read_excel(\"datasets/2019-20-historical-migration-statistics-locked.xlsx\", sheet_name=\"1.2\", header=7 )\n",
    "\n",
    "stores_df = stores_df.iloc[: , :-1]\n",
    "stores_df = stores_df.iloc[: , 1:]\n",
    "stores_df = stores_df.melt(id_vars=[\"Year\"], \n",
    "        var_name=\"country\", \n",
    "        value_name=\"migration_no\")\n",
    "stores_df.rename(index=str, columns={\"Year\": \"year\"}, inplace=True)\n",
    "\n",
    "stores_df.head()\n"
   ],
   "outputs": [],
   "metadata": {}
  }
 ],
 "metadata": {
  "orig_nbformat": 4,
  "language_info": {
   "name": "python",
   "version": "3.8.8",
   "mimetype": "text/x-python",
   "codemirror_mode": {
    "name": "ipython",
    "version": 3
   },
   "pygments_lexer": "ipython3",
   "nbconvert_exporter": "python",
   "file_extension": ".py"
  },
  "kernelspec": {
   "name": "python3",
   "display_name": "Python 3.8.8 64-bit ('base': conda)"
  },
  "interpreter": {
   "hash": "e134e05457d34029b6460cd73bbf1ed73f339b5b6d98c95be70b69eba114fe95"
  }
 },
 "nbformat": 4,
 "nbformat_minor": 2
}